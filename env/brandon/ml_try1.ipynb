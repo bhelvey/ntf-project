{
 "cells": [
  {
   "cell_type": "code",
   "execution_count": 25,
   "metadata": {},
   "outputs": [],
   "source": [
    "import pandas as pd\n",
    "import sklearn\n",
    "from matplotlib import pyplot\n",
    "from datetime import datetime\n",
    "from pandas import date_range"
   ]
  },
  {
   "cell_type": "code",
   "execution_count": 2,
   "metadata": {},
   "outputs": [
    {
     "name": "stdout",
     "output_type": "stream",
     "text": [
      "           Date    Index  Inflation  FedMinWage\n",
      "0    1913-01-01    9.800       0.00        0.00\n",
      "1    1913-02-01    9.800       0.00        0.00\n",
      "2    1913-03-01    9.800       0.00        0.00\n",
      "3    1913-04-01    9.800       0.00        0.00\n",
      "4    1913-05-01    9.700      -1.02        0.00\n",
      "...         ...      ...        ...         ...\n",
      "1208 2013-09-01  234.149       0.12        7.25\n",
      "1209 2013-10-01  233.546      -0.26        7.25\n",
      "1210 2013-11-01  233.069      -0.20        7.25\n",
      "1211 2013-12-01  233.049      -0.01        7.25\n",
      "1212 2014-01-01  233.916       0.37        7.25\n",
      "\n",
      "[1213 rows x 4 columns]\n"
     ]
    }
   ],
   "source": [
    "from pandas import read_csv\n",
    "from datetime import datetime\n",
    "from matplotlib import pyplot\n",
    "\n",
    "def parser(x):\n",
    "    return datetime.strptime(x,'%Y-%m-%d')\n",
    "\n",
    "series = read_csv(\"../data/IndFlaMin.csv\", header=0, parse_dates=[1], squeeze=True, date_parser=parser).drop(columns=[\"Unnamed: 0\"])\n",
    "print(series)"
   ]
  },
  {
   "cell_type": "code",
   "execution_count": 20,
   "metadata": {},
   "outputs": [],
   "source": [
    "# index => cpi index \n",
    "series[\"Year\"] = series[\"Date\"].dt.year\n",
    "series[\"Month\"] = series[\"Date\"].dt.month\n"
   ]
  },
  {
   "cell_type": "code",
   "execution_count": 26,
   "metadata": {},
   "outputs": [],
   "source": [
    "series = series.drop(columns=\"Date\")"
   ]
  },
  {
   "cell_type": "code",
   "execution_count": 30,
   "metadata": {},
   "outputs": [],
   "source": [
    "from statsmodels.tsa.stattools import adfuller"
   ]
  },
  {
   "cell_type": "code",
   "execution_count": 52,
   "metadata": {},
   "outputs": [],
   "source": [
    "tr = adfuller(series[\"Index\"])"
   ]
  },
  {
   "cell_type": "code",
   "execution_count": 50,
   "metadata": {},
   "outputs": [],
   "source": [
    "def adfTest(values):\n",
    "    tResult = adfuller(values)\n",
    "    labels = [\"ADF Test Statistic\",\"p-value\",\"#Lags Used\",\"Number of Observations Used\"]\n",
    "    for value,label in zip(tResult, labels):\n",
    "        print (label+ \":\"+str(value))\n",
    "    if tResult[1] <= 0.05:\n",
    "        print (\"strong evidence this is seasonal\")\n",
    "    else:\n",
    "        print(\"This is not seasonal\")"
   ]
  },
  {
   "cell_type": "code",
   "execution_count": 55,
   "metadata": {},
   "outputs": [
    {
     "name": "stdout",
     "output_type": "stream",
     "text": [
      "ADF Test Statistic:1.412152554300684\n",
      "p-value:0.9971686557504474\n",
      "#Lags Used:12\n",
      "Number of Observations Used:1200\n",
      "This is not seasonal\n"
     ]
    }
   ],
   "source": [
    "adfTest(series[\"FedMinWage\"])"
   ]
  },
  {
   "cell_type": "code",
   "execution_count": 25,
   "metadata": {},
   "outputs": [
    {
     "data": {
      "text/plain": [
       "array([[Timestamp('1913-01-01 00:00:00'), 9.8, 0.0, 0.0, 1913, 1],\n",
       "       [Timestamp('1913-02-01 00:00:00'), 9.8, 0.0, 0.0, 1913, 2],\n",
       "       [Timestamp('1913-03-01 00:00:00'), 9.8, 0.0, 0.0, 1913, 3],\n",
       "       ...,\n",
       "       [Timestamp('2013-11-01 00:00:00'), 233.069, -0.2, 7.25, 2013, 11],\n",
       "       [Timestamp('2013-12-01 00:00:00'), 233.049, -0.01, 7.25, 2013, 12],\n",
       "       [Timestamp('2014-01-01 00:00:00'), 233.916, 0.37, 7.25, 2014, 1]],\n",
       "      dtype=object)"
      ]
     },
     "execution_count": 25,
     "metadata": {},
     "output_type": "execute_result"
    }
   ],
   "source": [
    "import numpy as np\n",
    "np.asarray(series)"
   ]
  },
  {
   "cell_type": "code",
   "execution_count": 6,
   "metadata": {},
   "outputs": [
    {
     "name": "stdout",
     "output_type": "stream",
     "text": [
      "(1213, 3) (1213,)\n"
     ]
    }
   ],
   "source": [
    "X = series[[\"Index\",\"Inflation\",\"FedMinWage\"]]\n",
    "y = series[\"Date\"]\n",
    "print(X.shape, y.shape)"
   ]
  },
  {
   "cell_type": "code",
   "execution_count": 9,
   "metadata": {},
   "outputs": [],
   "source": [
    "from sklearn.model_selection import train_test_split\n",
    "from sklearn.linear_model import LinearRegression\n",
    "import numpy"
   ]
  },
  {
   "cell_type": "code",
   "execution_count": 10,
   "metadata": {},
   "outputs": [],
   "source": [
    "X_train, X_test, y_train, y_test = train_test_split(X,y, random_state = 33)"
   ]
  },
  {
   "cell_type": "code",
   "execution_count": 11,
   "metadata": {},
   "outputs": [],
   "source": [
    "model = LinearRegression() "
   ]
  },
  {
   "cell_type": "code",
   "execution_count": 12,
   "metadata": {},
   "outputs": [
    {
     "data": {
      "text/plain": [
       "LinearRegression(copy_X=True, fit_intercept=True, n_jobs=None, normalize=False)"
      ]
     },
     "execution_count": 12,
     "metadata": {},
     "output_type": "execute_result"
    }
   ],
   "source": [
    "model.fit(X_train,y_train)"
   ]
  }
 ],
 "metadata": {
  "kernelspec": {
   "display_name": "Python 3",
   "language": "python",
   "name": "python3"
  },
  "language_info": {
   "codemirror_mode": {
    "name": "ipython",
    "version": 3
   },
   "file_extension": ".py",
   "mimetype": "text/x-python",
   "name": "python",
   "nbconvert_exporter": "python",
   "pygments_lexer": "ipython3",
   "version": "3.7.7"
  }
 },
 "nbformat": 4,
 "nbformat_minor": 4
}
